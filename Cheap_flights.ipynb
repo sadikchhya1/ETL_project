{
 "cells": [
  {
   "cell_type": "code",
   "execution_count": 1,
   "metadata": {},
   "outputs": [],
   "source": [
    "#importing libraries\n",
    "\n",
    "import pandas as pd\n",
    "from time import sleep, strftime\n",
    "import datetime\n",
    "from random import randint\n",
    "from selenium import webdriver\n",
    "from selenium.webdriver.common.keys import Keys\n",
    "from webdriver_manager.chrome import ChromeDriverManager\n",
    "from splinter import Browser"
   ]
  },
  {
   "cell_type": "code",
   "execution_count": 2,
   "metadata": {},
   "outputs": [],
   "source": [
    "#connect to email ??"
   ]
  },
  {
   "cell_type": "code",
   "execution_count": 3,
   "metadata": {},
   "outputs": [],
   "source": [
    "# connect to browser\n",
    "def scrape_info():\n",
    "    browser = init_browser()"
   ]
  },
  {
   "cell_type": "code",
   "execution_count": 4,
   "metadata": {},
   "outputs": [
    {
     "name": "stderr",
     "output_type": "stream",
     "text": [
      "[WDM] - Current google-chrome version is 87.0.4280\n",
      "[WDM] - Get LATEST driver version for 87.0.4280\n"
     ]
    },
    {
     "name": "stdout",
     "output_type": "stream",
     "text": [
      " \n"
     ]
    },
    {
     "name": "stderr",
     "output_type": "stream",
     "text": [
      "[WDM] - Driver [C:\\Users\\sadik\\.wdm\\drivers\\chromedriver\\win32\\87.0.4280.88\\chromedriver.exe] found in cache\n"
     ]
    }
   ],
   "source": [
    "executable_path = {'executable_path': ChromeDriverManager().install()}\n",
    "browser = Browser('chrome', **executable_path, headless=False)"
   ]
  },
  {
   "cell_type": "code",
   "execution_count": 9,
   "metadata": {},
   "outputs": [],
   "source": [
    "url = 'https://www.expedia.com/Flights-Search?flight-type=on&mode=search&trip=roundtrip&leg1=from%3ALos+Angeles+%28LAX+-+Los+Angeles+Intl.%29%2Cto%3AMelbourne+%28MEL+-+Tullamarine%29%2Cdeparture%3A4%2F6%2F2021TANYT&options=cabinclass%3Aeconomy&leg2=from%3AMelbourne+%28MEL+-+Tullamarine%29%2Cto%3ALos+Angeles+%28LAX+-+Los+Angeles+Intl.%29%2Cdeparture%3A4%2F21%2F2021TANYT&fromDate=4%2F6%2F2021&toDate=4%2F21%2F2021&d1=2021-04-06&d2=2021-04-21&passengers=children%3A0%2Cadults%3A1%2Cseniors%3A0%2Cinfantinlap%3AY'\n",
    "# url = 'https://www.skyscanner.com/transport/flights/lax/mel/210406/210505/?adults=1&adultsv2=1&cabinclass=economy&children=0&childrenv2=&destinationentityid=27544894&inboundaltsenabled=false&infants=0&originentityid=27536211&outboundaltsenabled=false&preferdirects=false&preferflexible=false&ref=home&rtn=1'\n",
    "browser.visit(url)\n"
   ]
  },
  {
   "cell_type": "code",
   "execution_count": 10,
   "metadata": {},
   "outputs": [],
   "source": [
    "items = browser.find_by_css('ol#flightModuleList li a')"
   ]
  },
  {
   "cell_type": "code",
   "execution_count": 11,
   "metadata": {},
   "outputs": [],
   "source": [
    "cheapestFlights = []\n",
    "\n",
    "for i in range(3):\n",
    "    cheapestFlights.append(items[i].text)"
   ]
  },
  {
   "cell_type": "code",
   "execution_count": 12,
   "metadata": {},
   "outputs": [
    {
     "data": {
      "text/plain": [
       "['Select and show fare information for Fiji Airways flight, departing at 11:00pm from Los Angeles, Landing at 12:30pm in Melbourne, Priced at $843',\n",
       " 'Select and show fare information for Philippine Airlines flight, departing at 10:30pm from Los Angeles, Landing at 7:20am in Melbourne, Priced at $1,136',\n",
       " 'Select and show fare information for Hawaiian Airlines flight, departing at 7:00am from Los Angeles, Landing at 11:35pm in Melbourne, Priced at $1,187']"
      ]
     },
     "execution_count": 12,
     "metadata": {},
     "output_type": "execute_result"
    }
   ],
   "source": [
    "cheapestFlights"
   ]
  },
  {
   "cell_type": "code",
   "execution_count": null,
   "metadata": {},
   "outputs": [],
   "source": []
  }
 ],
 "metadata": {
  "kernelspec": {
   "display_name": "Python [conda env:PythonData] *",
   "language": "python",
   "name": "conda-env-PythonData-py"
  },
  "language_info": {
   "codemirror_mode": {
    "name": "ipython",
    "version": 3
   },
   "file_extension": ".py",
   "mimetype": "text/x-python",
   "name": "python",
   "nbconvert_exporter": "python",
   "pygments_lexer": "ipython3",
   "version": "3.7.1"
  }
 },
 "nbformat": 4,
 "nbformat_minor": 4
}
